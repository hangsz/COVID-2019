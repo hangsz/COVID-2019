{
 "cells": [
  {
   "cell_type": "code",
   "execution_count": 44,
   "id": "1d1615b5-e450-4118-9278-eacaa9d1863e",
   "metadata": {},
   "outputs": [
    {
     "data": {
      "text/plain": [
       "'D:\\\\github\\\\COVID-2019\\\\covid-19'"
      ]
     },
     "execution_count": 44,
     "metadata": {},
     "output_type": "execute_result"
    }
   ],
   "source": [
    "pwd"
   ]
  },
  {
   "cell_type": "code",
   "execution_count": 45,
   "id": "4cfbe9af-679c-4fa0-8b9e-01792d9cba3e",
   "metadata": {},
   "outputs": [],
   "source": [
    "import pandas as pd"
   ]
  },
  {
   "cell_type": "code",
   "execution_count": 46,
   "id": "7cf0ff32-027e-4e49-89ef-06e43bcb7673",
   "metadata": {},
   "outputs": [],
   "source": [
    "import matplotlib.pyplot as plt"
   ]
  },
  {
   "cell_type": "markdown",
   "id": "f9f520d1-dd65-485d-984f-b5a17d715c8d",
   "metadata": {},
   "source": [
    "# 出生人口死亡分布曲线"
   ]
  },
  {
   "cell_type": "code",
   "execution_count": 329,
   "id": "57d94814-6f61-4d8c-b5d0-546a4b2e0776",
   "metadata": {},
   "outputs": [
    {
     "data": {
      "text/html": [
       "<div>\n",
       "<style scoped>\n",
       "    .dataframe tbody tr th:only-of-type {\n",
       "        vertical-align: middle;\n",
       "    }\n",
       "\n",
       "    .dataframe tbody tr th {\n",
       "        vertical-align: top;\n",
       "    }\n",
       "\n",
       "    .dataframe thead th {\n",
       "        text-align: right;\n",
       "    }\n",
       "</style>\n",
       "<table border=\"1\" class=\"dataframe\">\n",
       "  <thead>\n",
       "    <tr style=\"text-align: right;\">\n",
       "      <th></th>\n",
       "      <th>Age</th>\n",
       "      <th>qx</th>\n",
       "      <th>lx</th>\n",
       "      <th>dx</th>\n",
       "      <th>Lx</th>\n",
       "      <th>Tx</th>\n",
       "      <th>ex</th>\n",
       "      <th>death_rate</th>\n",
       "    </tr>\n",
       "    <tr>\n",
       "      <th>death_year</th>\n",
       "      <th></th>\n",
       "      <th></th>\n",
       "      <th></th>\n",
       "      <th></th>\n",
       "      <th></th>\n",
       "      <th></th>\n",
       "      <th></th>\n",
       "      <th></th>\n",
       "    </tr>\n",
       "  </thead>\n",
       "  <tbody>\n",
       "    <tr>\n",
       "      <th>0</th>\n",
       "      <td>0–1</td>\n",
       "      <td>0.005575</td>\n",
       "      <td>100000.000000</td>\n",
       "      <td>557.462341</td>\n",
       "      <td>99513.335938</td>\n",
       "      <td>7884823.0</td>\n",
       "      <td>78.848228</td>\n",
       "      <td>0.005575</td>\n",
       "    </tr>\n",
       "    <tr>\n",
       "      <th>1</th>\n",
       "      <td>1–2</td>\n",
       "      <td>0.000379</td>\n",
       "      <td>99442.539062</td>\n",
       "      <td>37.690670</td>\n",
       "      <td>99423.695312</td>\n",
       "      <td>7785309.5</td>\n",
       "      <td>78.289528</td>\n",
       "      <td>0.000377</td>\n",
       "    </tr>\n",
       "    <tr>\n",
       "      <th>2</th>\n",
       "      <td>2–3</td>\n",
       "      <td>0.000234</td>\n",
       "      <td>99404.851562</td>\n",
       "      <td>23.219563</td>\n",
       "      <td>99393.242188</td>\n",
       "      <td>7685886.0</td>\n",
       "      <td>77.319023</td>\n",
       "      <td>0.000232</td>\n",
       "    </tr>\n",
       "    <tr>\n",
       "      <th>3</th>\n",
       "      <td>3–4</td>\n",
       "      <td>0.000180</td>\n",
       "      <td>99381.632812</td>\n",
       "      <td>17.871410</td>\n",
       "      <td>99372.695312</td>\n",
       "      <td>7586492.5</td>\n",
       "      <td>76.336967</td>\n",
       "      <td>0.000179</td>\n",
       "    </tr>\n",
       "    <tr>\n",
       "      <th>4</th>\n",
       "      <td>4–5</td>\n",
       "      <td>0.000145</td>\n",
       "      <td>99363.757812</td>\n",
       "      <td>14.412253</td>\n",
       "      <td>99356.546875</td>\n",
       "      <td>7487120.0</td>\n",
       "      <td>75.350609</td>\n",
       "      <td>0.000144</td>\n",
       "    </tr>\n",
       "  </tbody>\n",
       "</table>\n",
       "</div>"
      ],
      "text/plain": [
       "            Age        qx             lx          dx            Lx         Tx  \\\n",
       "death_year                                                                      \n",
       "0           0–1  0.005575  100000.000000  557.462341  99513.335938  7884823.0   \n",
       "1           1–2  0.000379   99442.539062   37.690670  99423.695312  7785309.5   \n",
       "2           2–3  0.000234   99404.851562   23.219563  99393.242188  7685886.0   \n",
       "3           3–4  0.000180   99381.632812   17.871410  99372.695312  7586492.5   \n",
       "4           4–5  0.000145   99363.757812   14.412253  99356.546875  7487120.0   \n",
       "\n",
       "                   ex  death_rate  \n",
       "death_year                         \n",
       "0           78.848228    0.005575  \n",
       "1           78.289528    0.000377  \n",
       "2           77.319023    0.000232  \n",
       "3           76.336967    0.000179  \n",
       "4           75.350609    0.000144  "
      ]
     },
     "execution_count": 329,
     "metadata": {},
     "output_type": "execute_result"
    }
   ],
   "source": [
    "life_table = pd.read_excel('Table01.xlsx', skiprows=2)\n",
    "life_table['death_rate'] = life_table['dx']/100000\n",
    "life_table.index.name = 'death_year'\n",
    "life_table.head()"
   ]
  },
  {
   "cell_type": "code",
   "execution_count": 330,
   "id": "a5b6f692-a662-4715-8dda-41bf70ccbbc6",
   "metadata": {},
   "outputs": [
    {
     "data": {
      "text/html": [
       "<div>\n",
       "<style scoped>\n",
       "    .dataframe tbody tr th:only-of-type {\n",
       "        vertical-align: middle;\n",
       "    }\n",
       "\n",
       "    .dataframe tbody tr th {\n",
       "        vertical-align: top;\n",
       "    }\n",
       "\n",
       "    .dataframe thead th {\n",
       "        text-align: right;\n",
       "    }\n",
       "</style>\n",
       "<table border=\"1\" class=\"dataframe\">\n",
       "  <thead>\n",
       "    <tr style=\"text-align: right;\">\n",
       "      <th></th>\n",
       "      <th>Age</th>\n",
       "      <th>qx</th>\n",
       "      <th>lx</th>\n",
       "      <th>dx</th>\n",
       "      <th>Lx</th>\n",
       "      <th>Tx</th>\n",
       "      <th>ex</th>\n",
       "      <th>death_rate</th>\n",
       "    </tr>\n",
       "    <tr>\n",
       "      <th>death_year</th>\n",
       "      <th></th>\n",
       "      <th></th>\n",
       "      <th></th>\n",
       "      <th></th>\n",
       "      <th></th>\n",
       "      <th></th>\n",
       "      <th></th>\n",
       "      <th></th>\n",
       "    </tr>\n",
       "  </thead>\n",
       "  <tbody>\n",
       "    <tr>\n",
       "      <th>99</th>\n",
       "      <td>99–100</td>\n",
       "      <td>0.308767</td>\n",
       "      <td>3024.207520</td>\n",
       "      <td>933.775085</td>\n",
       "      <td>2557.319824</td>\n",
       "      <td>7253.081055</td>\n",
       "      <td>2.398341</td>\n",
       "      <td>0.009338</td>\n",
       "    </tr>\n",
       "    <tr>\n",
       "      <th>100</th>\n",
       "      <td>100 and over</td>\n",
       "      <td>1.000000</td>\n",
       "      <td>2090.432373</td>\n",
       "      <td>600.000000</td>\n",
       "      <td>4695.761230</td>\n",
       "      <td>4695.761230</td>\n",
       "      <td>2.246311</td>\n",
       "      <td>0.006000</td>\n",
       "    </tr>\n",
       "    <tr>\n",
       "      <th>101</th>\n",
       "      <td>100 and over</td>\n",
       "      <td>1.000000</td>\n",
       "      <td>2090.432373</td>\n",
       "      <td>300.000000</td>\n",
       "      <td>4695.761230</td>\n",
       "      <td>4695.761230</td>\n",
       "      <td>2.246311</td>\n",
       "      <td>0.003000</td>\n",
       "    </tr>\n",
       "    <tr>\n",
       "      <th>102</th>\n",
       "      <td>100 and over</td>\n",
       "      <td>1.000000</td>\n",
       "      <td>2090.432373</td>\n",
       "      <td>100.000000</td>\n",
       "      <td>4695.761230</td>\n",
       "      <td>4695.761230</td>\n",
       "      <td>2.246311</td>\n",
       "      <td>0.001000</td>\n",
       "    </tr>\n",
       "    <tr>\n",
       "      <th>103</th>\n",
       "      <td>100 and over</td>\n",
       "      <td>1.000000</td>\n",
       "      <td>2090.432373</td>\n",
       "      <td>10.000000</td>\n",
       "      <td>4695.761230</td>\n",
       "      <td>4695.761230</td>\n",
       "      <td>2.246311</td>\n",
       "      <td>0.000100</td>\n",
       "    </tr>\n",
       "  </tbody>\n",
       "</table>\n",
       "</div>"
      ],
      "text/plain": [
       "                     Age        qx           lx          dx           Lx  \\\n",
       "death_year                                                                 \n",
       "99                99–100  0.308767  3024.207520  933.775085  2557.319824   \n",
       "100         100 and over  1.000000  2090.432373  600.000000  4695.761230   \n",
       "101         100 and over  1.000000  2090.432373  300.000000  4695.761230   \n",
       "102         100 and over  1.000000  2090.432373  100.000000  4695.761230   \n",
       "103         100 and over  1.000000  2090.432373   10.000000  4695.761230   \n",
       "\n",
       "                     Tx        ex  death_rate  \n",
       "death_year                                     \n",
       "99          7253.081055  2.398341    0.009338  \n",
       "100         4695.761230  2.246311    0.006000  \n",
       "101         4695.761230  2.246311    0.003000  \n",
       "102         4695.761230  2.246311    0.001000  \n",
       "103         4695.761230  2.246311    0.000100  "
      ]
     },
     "execution_count": 330,
     "metadata": {},
     "output_type": "execute_result"
    }
   ],
   "source": [
    "life_table.tail()"
   ]
  },
  {
   "cell_type": "code",
   "execution_count": null,
   "id": "885887f8-d99e-457b-8443-4097b5ed1a1f",
   "metadata": {},
   "outputs": [],
   "source": []
  },
  {
   "cell_type": "code",
   "execution_count": 331,
   "id": "3af6da58-2b8e-4a11-94a6-3f63d4559de7",
   "metadata": {},
   "outputs": [
    {
     "data": {
      "image/png": "[encoded data removed]",
      "text/plain": [
       "<Figure size 1440x720 with 1 Axes>"
      ]
     },
     "metadata": {
      "needs_background": "light"
     },
     "output_type": "display_data"
    }
   ],
   "source": [
    "figure, ax = plt.subplots(figsize=(20,10))\n",
    "ax.plot(life_table['dx'])\n",
    "ax.axvline(x=78, color='black', linewidth='1', linestyle='--')\n",
    "ax.axvline(x=88, color='r', linewidth='1', linestyle='--')\n",
    "plt.show()"
   ]
  },
  {
   "cell_type": "code",
   "execution_count": null,
   "id": "ad915686-58f5-454d-a957-ac88a86fbce8",
   "metadata": {},
   "outputs": [],
   "source": []
  },
  {
   "cell_type": "markdown",
   "id": "f82d2d14-b3cf-4ac1-969e-a03b987c45a9",
   "metadata": {
    "tags": []
   },
   "source": [
    "# 预期寿命修正"
   ]
  },
  {
   "cell_type": "markdown",
   "id": "a7b8fd16-f891-41fb-bd9b-e71fb5232cfb",
   "metadata": {},
   "source": [
    "- 上图是2019年的死亡分布曲线，预期寿命78，可以看到死亡高峰对应的是88岁。\n",
    "- 历史上死亡曲线与之未必相符，我们根据历史每年的预期寿命与2019的做个差值，找到其合理的权重。"
   ]
  },
  {
   "cell_type": "code",
   "execution_count": 332,
   "id": "7223648d-26c8-4432-89f6-ac66e0f66df6",
   "metadata": {},
   "outputs": [
    {
     "data": {
      "text/html": [
       "<div>\n",
       "<style scoped>\n",
       "    .dataframe tbody tr th:only-of-type {\n",
       "        vertical-align: middle;\n",
       "    }\n",
       "\n",
       "    .dataframe tbody tr th {\n",
       "        vertical-align: top;\n",
       "    }\n",
       "\n",
       "    .dataframe thead th {\n",
       "        text-align: right;\n",
       "    }\n",
       "</style>\n",
       "<table border=\"1\" class=\"dataframe\">\n",
       "  <thead>\n",
       "    <tr style=\"text-align: right;\">\n",
       "      <th></th>\n",
       "      <th>life_expectancy</th>\n",
       "    </tr>\n",
       "    <tr>\n",
       "      <th>Year</th>\n",
       "      <th></th>\n",
       "    </tr>\n",
       "  </thead>\n",
       "  <tbody>\n",
       "    <tr>\n",
       "      <th>2020</th>\n",
       "      <td>77.0</td>\n",
       "    </tr>\n",
       "    <tr>\n",
       "      <th>2019</th>\n",
       "      <td>78.6</td>\n",
       "    </tr>\n",
       "    <tr>\n",
       "      <th>2018</th>\n",
       "      <td>78.6</td>\n",
       "    </tr>\n",
       "    <tr>\n",
       "      <th>2017</th>\n",
       "      <td>78.6</td>\n",
       "    </tr>\n",
       "    <tr>\n",
       "      <th>2016</th>\n",
       "      <td>78.7</td>\n",
       "    </tr>\n",
       "  </tbody>\n",
       "</table>\n",
       "</div>"
      ],
      "text/plain": [
       "      life_expectancy\n",
       "Year                 \n",
       "2020             77.0\n",
       "2019             78.6\n",
       "2018             78.6\n",
       "2017             78.6\n",
       "2016             78.7"
      ]
     },
     "execution_count": 332,
     "metadata": {},
     "output_type": "execute_result"
    }
   ],
   "source": [
    "life_expectancy = pd.read_csv('life_expectancy.csv', index_col=['Year'])\n",
    "life_expectancy.head()"
   ]
  },
  {
   "cell_type": "code",
   "execution_count": 333,
   "id": "521d28f4-1c88-414d-9db1-1bf1aba8a04e",
   "metadata": {},
   "outputs": [],
   "source": [
    "life_expectancy['diff'] = (78.6 - life_expectancy['life_expectancy']).astype('int')"
   ]
  },
  {
   "cell_type": "code",
   "execution_count": 334,
   "id": "39327c80-46bb-4b5b-997d-a651b7987690",
   "metadata": {},
   "outputs": [
    {
     "data": {
      "text/html": [
       "<div>\n",
       "<style scoped>\n",
       "    .dataframe tbody tr th:only-of-type {\n",
       "        vertical-align: middle;\n",
       "    }\n",
       "\n",
       "    .dataframe tbody tr th {\n",
       "        vertical-align: top;\n",
       "    }\n",
       "\n",
       "    .dataframe thead th {\n",
       "        text-align: right;\n",
       "    }\n",
       "</style>\n",
       "<table border=\"1\" class=\"dataframe\">\n",
       "  <thead>\n",
       "    <tr style=\"text-align: right;\">\n",
       "      <th></th>\n",
       "      <th>life_expectancy</th>\n",
       "      <th>diff</th>\n",
       "    </tr>\n",
       "    <tr>\n",
       "      <th>Year</th>\n",
       "      <th></th>\n",
       "      <th></th>\n",
       "    </tr>\n",
       "  </thead>\n",
       "  <tbody>\n",
       "    <tr>\n",
       "      <th>2020</th>\n",
       "      <td>77.0</td>\n",
       "      <td>1</td>\n",
       "    </tr>\n",
       "    <tr>\n",
       "      <th>2019</th>\n",
       "      <td>78.6</td>\n",
       "      <td>0</td>\n",
       "    </tr>\n",
       "    <tr>\n",
       "      <th>2018</th>\n",
       "      <td>78.6</td>\n",
       "      <td>0</td>\n",
       "    </tr>\n",
       "    <tr>\n",
       "      <th>2017</th>\n",
       "      <td>78.6</td>\n",
       "      <td>0</td>\n",
       "    </tr>\n",
       "    <tr>\n",
       "      <th>2016</th>\n",
       "      <td>78.7</td>\n",
       "      <td>0</td>\n",
       "    </tr>\n",
       "    <tr>\n",
       "      <th>...</th>\n",
       "      <td>...</td>\n",
       "      <td>...</td>\n",
       "    </tr>\n",
       "    <tr>\n",
       "      <th>1921</th>\n",
       "      <td>60.8</td>\n",
       "      <td>17</td>\n",
       "    </tr>\n",
       "    <tr>\n",
       "      <th>1920</th>\n",
       "      <td>54.1</td>\n",
       "      <td>24</td>\n",
       "    </tr>\n",
       "    <tr>\n",
       "      <th>1919</th>\n",
       "      <td>54.7</td>\n",
       "      <td>23</td>\n",
       "    </tr>\n",
       "    <tr>\n",
       "      <th>1918</th>\n",
       "      <td>39.1</td>\n",
       "      <td>39</td>\n",
       "    </tr>\n",
       "    <tr>\n",
       "      <th>1917</th>\n",
       "      <td>50.9</td>\n",
       "      <td>27</td>\n",
       "    </tr>\n",
       "  </tbody>\n",
       "</table>\n",
       "<p>104 rows × 2 columns</p>\n",
       "</div>"
      ],
      "text/plain": [
       "      life_expectancy  diff\n",
       "Year                       \n",
       "2020             77.0     1\n",
       "2019             78.6     0\n",
       "2018             78.6     0\n",
       "2017             78.6     0\n",
       "2016             78.7     0\n",
       "...               ...   ...\n",
       "1921             60.8    17\n",
       "1920             54.1    24\n",
       "1919             54.7    23\n",
       "1918             39.1    39\n",
       "1917             50.9    27\n",
       "\n",
       "[104 rows x 2 columns]"
      ]
     },
     "execution_count": 334,
     "metadata": {},
     "output_type": "execute_result"
    }
   ],
   "source": [
    "life_expectancy"
   ]
  },
  {
   "cell_type": "code",
   "execution_count": null,
   "id": "3effa684-2cf9-4d4a-8a9e-3957fe5fa5f1",
   "metadata": {},
   "outputs": [],
   "source": []
  },
  {
   "cell_type": "code",
   "execution_count": null,
   "id": "e6982632-9c3f-417b-ba39-7636cdc395a9",
   "metadata": {},
   "outputs": [],
   "source": []
  },
  {
   "cell_type": "markdown",
   "id": "7bbc8c0c-1761-4dee-a56e-9fe946e6f9d7",
   "metadata": {
    "tags": []
   },
   "source": [
    "# 总出生人口"
   ]
  },
  {
   "cell_type": "code",
   "execution_count": 335,
   "id": "ec1d9b89-36fa-474e-af22-a13fefbf38db",
   "metadata": {},
   "outputs": [],
   "source": [
    "# birth_sample = pd.read_csv('birth.csv',  index_col=['Year'])\n",
    "# birth_sample.head()"
   ]
  },
  {
   "cell_type": "code",
   "execution_count": 336,
   "id": "153782b1-bc40-4909-b92a-3be85bf8aef5",
   "metadata": {},
   "outputs": [],
   "source": [
    "# births = pd.DataFrame()\n",
    "# births.index = range(1910,2020)\n",
    "# births.index.name = 'Year'"
   ]
  },
  {
   "cell_type": "code",
   "execution_count": 337,
   "id": "7f7862cd-1a45-484e-8967-2cb441a0b301",
   "metadata": {},
   "outputs": [],
   "source": [
    "# births = pd.concat([births, birth_sample],axis='columns')\n",
    "# births.sort_index(ascending=False, inplace=True)\n",
    "# births['Birth'] = births['Birth'].interpolate()\n"
   ]
  },
  {
   "cell_type": "code",
   "execution_count": 338,
   "id": "02a768b9-b089-40f4-9adf-719a56f62e37",
   "metadata": {},
   "outputs": [
    {
     "data": {
      "text/html": [
       "<div>\n",
       "<style scoped>\n",
       "    .dataframe tbody tr th:only-of-type {\n",
       "        vertical-align: middle;\n",
       "    }\n",
       "\n",
       "    .dataframe tbody tr th {\n",
       "        vertical-align: top;\n",
       "    }\n",
       "\n",
       "    .dataframe thead th {\n",
       "        text-align: right;\n",
       "    }\n",
       "</style>\n",
       "<table border=\"1\" class=\"dataframe\">\n",
       "  <thead>\n",
       "    <tr style=\"text-align: right;\">\n",
       "      <th></th>\n",
       "      <th>Birth</th>\n",
       "    </tr>\n",
       "    <tr>\n",
       "      <th>Year</th>\n",
       "      <th></th>\n",
       "    </tr>\n",
       "  </thead>\n",
       "  <tbody>\n",
       "    <tr>\n",
       "      <th>2020</th>\n",
       "      <td>3613647.0</td>\n",
       "    </tr>\n",
       "    <tr>\n",
       "      <th>2019</th>\n",
       "      <td>3747540.0</td>\n",
       "    </tr>\n",
       "    <tr>\n",
       "      <th>2018</th>\n",
       "      <td>3791712.0</td>\n",
       "    </tr>\n",
       "    <tr>\n",
       "      <th>2017</th>\n",
       "      <td>3855500.0</td>\n",
       "    </tr>\n",
       "    <tr>\n",
       "      <th>2016</th>\n",
       "      <td>3945875.0</td>\n",
       "    </tr>\n",
       "  </tbody>\n",
       "</table>\n",
       "</div>"
      ],
      "text/plain": [
       "          Birth\n",
       "Year           \n",
       "2020  3613647.0\n",
       "2019  3747540.0\n",
       "2018  3791712.0\n",
       "2017  3855500.0\n",
       "2016  3945875.0"
      ]
     },
     "execution_count": 338,
     "metadata": {},
     "output_type": "execute_result"
    }
   ],
   "source": [
    "births = pd.read_csv('births.csv',  usecols=['Birth','Year'], index_col=['Year'])\n",
    "births.head()"
   ]
  },
  {
   "cell_type": "code",
   "execution_count": 339,
   "id": "6efb3821-902f-4bff-9382-bc7cf962032a",
   "metadata": {},
   "outputs": [
    {
     "data": {
      "text/html": [
       "<div>\n",
       "<style scoped>\n",
       "    .dataframe tbody tr th:only-of-type {\n",
       "        vertical-align: middle;\n",
       "    }\n",
       "\n",
       "    .dataframe tbody tr th {\n",
       "        vertical-align: top;\n",
       "    }\n",
       "\n",
       "    .dataframe thead th {\n",
       "        text-align: right;\n",
       "    }\n",
       "</style>\n",
       "<table border=\"1\" class=\"dataframe\">\n",
       "  <thead>\n",
       "    <tr style=\"text-align: right;\">\n",
       "      <th></th>\n",
       "      <th>Birth</th>\n",
       "    </tr>\n",
       "    <tr>\n",
       "      <th>Year</th>\n",
       "      <th></th>\n",
       "    </tr>\n",
       "  </thead>\n",
       "  <tbody>\n",
       "    <tr>\n",
       "      <th>1921</th>\n",
       "      <td>2941800.0</td>\n",
       "    </tr>\n",
       "    <tr>\n",
       "      <th>1920</th>\n",
       "      <td>2950000.0</td>\n",
       "    </tr>\n",
       "    <tr>\n",
       "      <th>1919</th>\n",
       "      <td>2953000.0</td>\n",
       "    </tr>\n",
       "    <tr>\n",
       "      <th>1918</th>\n",
       "      <td>2956000.0</td>\n",
       "    </tr>\n",
       "    <tr>\n",
       "      <th>1917</th>\n",
       "      <td>2959000.0</td>\n",
       "    </tr>\n",
       "  </tbody>\n",
       "</table>\n",
       "</div>"
      ],
      "text/plain": [
       "          Birth\n",
       "Year           \n",
       "1921  2941800.0\n",
       "1920  2950000.0\n",
       "1919  2953000.0\n",
       "1918  2956000.0\n",
       "1917  2959000.0"
      ]
     },
     "execution_count": 339,
     "metadata": {},
     "output_type": "execute_result"
    }
   ],
   "source": [
    "births.tail()"
   ]
  },
  {
   "cell_type": "code",
   "execution_count": 340,
   "id": "8b8ce62f-7f91-4acb-9eec-b6ea72a48464",
   "metadata": {},
   "outputs": [
    {
     "data": {
      "text/plain": [
       "(104, 1)"
      ]
     },
     "execution_count": 340,
     "metadata": {},
     "output_type": "execute_result"
    }
   ],
   "source": [
    "births.shape"
   ]
  },
  {
   "cell_type": "code",
   "execution_count": null,
   "id": "ba627302-1c1d-49f6-b691-c7e10c9ecb65",
   "metadata": {},
   "outputs": [],
   "source": []
  },
  {
   "cell_type": "code",
   "execution_count": null,
   "id": "4b1d4895-4b3d-4003-83bf-a2dd443d1069",
   "metadata": {},
   "outputs": [],
   "source": []
  },
  {
   "cell_type": "markdown",
   "id": "af05015d-c5a0-405d-856b-e195f9573a80",
   "metadata": {},
   "source": [
    "# 每年死亡人口计算"
   ]
  },
  {
   "cell_type": "code",
   "execution_count": 442,
   "id": "970ba0eb-d66c-4492-82a6-3f94db137a2d",
   "metadata": {},
   "outputs": [],
   "source": [
    "def get_death_of_year(year, use_life_expectancy=False):\n",
    "    p_year = births.copy()\n",
    "    # 每年出生的人到year这年的年龄\n",
    "    p_year['death_year'] =  year- p_year.index\n",
    "    if not use_life_expectancy:\n",
    "        p_year = p_year.loc[ (p_year.index<=year) &(p_year.index>=1917 + year-2017)]\n",
    "    else:\n",
    "        p_year = p_year.loc[ (p_year.index<=year) &(p_year.index>=1930 + year-2017)]\n",
    "    # 每年出生的人到year这年的年龄+由于预期寿命的修正\n",
    "    p_year['death_year_new'] =  p_year['death_year']\n",
    "    if use_life_expectancy:\n",
    "        p_year['death_year_add'] =  life_expectancy.loc[p_year.index, 'diff']\n",
    "        p_year['death_year_new'] =  p_year['death_year']+life_expectancy.loc[p_year.index, 'diff']\n",
    "        # p_year = p_year.loc[(p_year['death_year_new']<=103)]\n",
    "    # p_year = p_year.loc[ (p_year['death_year_new']>=0)]\n",
    "    p_year.loc[p_year['death_year_new']>103, 'death_year_new'] = 103\n",
    "    # print(p_year)\n",
    "    \n",
    "    p_year['death_rate'] = life_table.loc[p_year['death_year_new'],'death_rate'].tolist()\n",
    "    p_year['deaths'] =  p_year['Birth']*p_year['death_rate']\n",
    "    p_year.to_csv(str(year)+'.csv')\n",
    "    death_year = sum( p_year['Birth']*p_year['death_rate'] )\n",
    "\n",
    "    return death_year"
   ]
  },
  {
   "cell_type": "code",
   "execution_count": null,
   "id": "a6316322-bfce-4e78-8b77-28a82c1507ea",
   "metadata": {},
   "outputs": [],
   "source": []
  },
  {
   "cell_type": "markdown",
   "id": "50a54256-17e2-491b-b9a7-ce51873ba3ea",
   "metadata": {
    "tags": []
   },
   "source": [
    "## 不用预期寿命较正2018-2021 死亡人口"
   ]
  },
  {
   "cell_type": "code",
   "execution_count": 443,
   "id": "86456d72-ef05-4d2b-8890-44de136dd386",
   "metadata": {},
   "outputs": [
    {
     "data": {
      "text/plain": [
       "2905161.247970444"
      ]
     },
     "execution_count": 443,
     "metadata": {},
     "output_type": "execute_result"
    }
   ],
   "source": [
    "get_death_of_year(2017)"
   ]
  },
  {
   "cell_type": "code",
   "execution_count": 444,
   "id": "a8c0ee95-0126-4c37-8cfd-f4c8368b6508",
   "metadata": {},
   "outputs": [
    {
     "data": {
      "text/plain": [
       "2910802.014759074"
      ]
     },
     "execution_count": 444,
     "metadata": {},
     "output_type": "execute_result"
    }
   ],
   "source": [
    "get_death_of_year(2018)"
   ]
  },
  {
   "cell_type": "code",
   "execution_count": 445,
   "id": "9971c5d3-77c5-4db2-98de-14843d4f2626",
   "metadata": {},
   "outputs": [
    {
     "data": {
      "text/plain": [
       "2918470.7867820035"
      ]
     },
     "execution_count": 445,
     "metadata": {},
     "output_type": "execute_result"
    }
   ],
   "source": [
    "get_death_of_year(2019)"
   ]
  },
  {
   "cell_type": "code",
   "execution_count": 446,
   "id": "262bfe11-8683-4cfa-9c3a-f8eb2e1ea5f6",
   "metadata": {},
   "outputs": [
    {
     "data": {
      "text/plain": [
       "2927870.020830343"
      ]
     },
     "execution_count": 446,
     "metadata": {},
     "output_type": "execute_result"
    }
   ],
   "source": [
    "get_death_of_year(2020)"
   ]
  },
  {
   "cell_type": "code",
   "execution_count": null,
   "id": "b5e61a6e-0194-4915-95c2-cb2110b47385",
   "metadata": {},
   "outputs": [],
   "source": []
  },
  {
   "cell_type": "markdown",
   "id": "3c18669d-478a-4d8c-a163-c64671492563",
   "metadata": {
    "tags": []
   },
   "source": [
    "## 用预期寿命较正2018-2021 死亡人口"
   ]
  },
  {
   "cell_type": "code",
   "execution_count": 447,
   "id": "c7685ce3-2b45-4afa-8fb6-584485abb074",
   "metadata": {},
   "outputs": [
    {
     "data": {
      "text/plain": [
       "2410266.128339334"
      ]
     },
     "execution_count": 447,
     "metadata": {},
     "output_type": "execute_result"
    }
   ],
   "source": [
    "get_death_of_year(2017, True)"
   ]
  },
  {
   "cell_type": "code",
   "execution_count": 448,
   "id": "eee511e1-c1ea-41fb-80b0-9d767a40d430",
   "metadata": {},
   "outputs": [
    {
     "data": {
      "text/plain": [
       "2450434.3982783263"
      ]
     },
     "execution_count": 448,
     "metadata": {},
     "output_type": "execute_result"
    }
   ],
   "source": [
    "get_death_of_year(2018, True)"
   ]
  },
  {
   "cell_type": "code",
   "execution_count": 449,
   "id": "dc256c9f-4c63-4964-ba8d-b12cc9c0ff84",
   "metadata": {},
   "outputs": [
    {
     "data": {
      "text/plain": [
       "2492516.8281625262"
      ]
     },
     "execution_count": 449,
     "metadata": {},
     "output_type": "execute_result"
    }
   ],
   "source": [
    "get_death_of_year(2019, True)"
   ]
  },
  {
   "cell_type": "code",
   "execution_count": 450,
   "id": "9217a58e-f0f7-48e1-8f23-b90b8309838d",
   "metadata": {},
   "outputs": [
    {
     "data": {
      "text/plain": [
       "2518775.2529869066"
      ]
     },
     "execution_count": 450,
     "metadata": {},
     "output_type": "execute_result"
    }
   ],
   "source": [
    "get_death_of_year(2020, True)"
   ]
  },
  {
   "cell_type": "markdown",
   "id": "b860a8ad-2b43-4dd3-b045-05913b8edc4e",
   "metadata": {
    "jp-MarkdownHeadingCollapsed": true,
    "tags": []
   },
   "source": [
    "# 结论\n",
    "\n",
    "### 1. 按照死亡分布曲线计算的死亡结果与真实值有gap，但我们并不关注这个gap，我们更关注死亡分布曲线计算的结果本身的增长趋势。\n",
    "### 2. 不管用不用预期寿命较正，婴儿潮带来的出生人口增长在死亡分布曲线下被抹平了，在2020年并不会带来大量突增。"
   ]
  },
  {
   "cell_type": "markdown",
   "id": "f255042d-cf0d-40e3-b8c0-1edaf31ac659",
   "metadata": {},
   "source": []
  },
  {
   "cell_type": "code",
   "execution_count": null,
   "id": "9405f929-e376-4d39-8080-fc227c1185f8",
   "metadata": {},
   "outputs": [],
   "source": []
  }
 ],
 "metadata": {
  "kernelspec": {
   "display_name": "Python 3 (ipykernel)",
   "language": "python",
   "name": "python3"
  },
  "language_info": {
   "codemirror_mode": {
    "name": "ipython",
    "version": 3
   },
   "file_extension": ".py",
   "mimetype": "text/x-python",
   "name": "python",
   "nbconvert_exporter": "python",
   "pygments_lexer": "ipython3",
   "version": "3.10.4"
  },
  "toc-autonumbering": false
 },
 "nbformat": 4,
 "nbformat_minor": 5
}
